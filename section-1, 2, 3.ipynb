{
 "cells": [
  {
   "cell_type": "code",
   "execution_count": 2,
   "metadata": {
    "scrolled": true
   },
   "outputs": [
    {
     "name": "stdout",
     "output_type": "stream",
     "text": [
      "What is your name?: hello\n",
      "5\n"
     ]
    }
   ],
   "source": [
    "name = input(\"What is your name?: \")\n",
    "print(len(name))"
   ]
  },
  {
   "cell_type": "code",
   "execution_count": 1,
   "metadata": {
    "scrolled": true
   },
   "outputs": [
    {
     "name": "stdout",
     "output_type": "stream",
     "text": [
      "Welcome to the Band name Generator.\n",
      "What's the name of the city you grew up in?\n",
      "raniprt\n",
      "What's your pet's name?\n",
      "dff\n",
      "Your band name could be Raniprt Dffs\n"
     ]
    }
   ],
   "source": [
    "print(\"Welcome to the Band name Generator.\")\n",
    "city = input(\"What's the name of the city you grew up in?\\n\")\n",
    "pet = input(\"What's your pet's name?\\n\")\n",
    "print(f\"Your band name could be {city.capitalize()} {pet.capitalize()}s\")"
   ]
  },
  {
   "cell_type": "code",
   "execution_count": 5,
   "metadata": {},
   "outputs": [
    {
     "name": "stdout",
     "output_type": "stream",
     "text": [
      "Welcome to the tip calculator.\n",
      "What was the total bill?124.56\n",
      "What percentage tip would you like to give? 10, 12, or 15?12\n",
      "How many people to split the bill?7\n",
      "Each person should pay: $19.93\n"
     ]
    }
   ],
   "source": [
    "print(\"Welcome to the tip calculator.\")\n",
    "bill = float(input(\"What was the total bill?\"))\n",
    "tip_percent = int(input(\"What percentage tip would you like to give? 10, 12, or 15?\"))\n",
    "people = int(input(\"How many people to split the bill?\"))\n",
    "tip = bill * (tip_percent / 100)\n",
    "total_bill = bill + tip\n",
    "individual_bill = total_bill / people \n",
    "print(f\"Each person should pay: ${round(individual_bill, 2)}\")"
   ]
  },
  {
   "cell_type": "code",
   "execution_count": 1,
   "metadata": {},
   "outputs": [
    {
     "name": "stdout",
     "output_type": "stream",
     "text": [
      "Enter a number: 4\n",
      "4 is even.\n"
     ]
    }
   ],
   "source": [
    "n = int(input(\"Enter a number: \"))\n",
    "if n % 2 == 0:\n",
    "    print(f\"{n} is even.\")\n",
    "else:\n",
    "    print(f\"{n} is odd.\")"
   ]
  },
  {
   "cell_type": "code",
   "execution_count": 13,
   "metadata": {},
   "outputs": [
    {
     "name": "stdout",
     "output_type": "stream",
     "text": [
      "Enter your weight in kg: 65\n",
      "Enter your height in m: 1.8\n",
      "Your BMI is 20.06. You have a normal weight.\n"
     ]
    }
   ],
   "source": [
    "weight = float(input(\"Enter your weight in kg: \"))\n",
    "height = float(input(\"Enter your height in m: \"))\n",
    "bmi = round(weight / (height ** 2), 2)\n",
    "if (bmi < 18.5):\n",
    "    print(f\"Your BMI is {bmi}. You are underweight.\")\n",
    "elif bmi >= 18.5 and bmi < 25:\n",
    "    print(f\"Your BMI is {bmi}. You have a normal weight.\")\n",
    "elif bmi >= 25 and bmi < 30:\n",
    "    print(f\"Your BMI is {bmi}. You are overweight.\")\n",
    "elif bmi >= 30 and bmi < 35:\n",
    "    print(f\"Your BMI is {bmi}. You are obese.\")\n",
    "else:\n",
    "    print(f\"Your BMI is {bmi}. You are clinically obese\")"
   ]
  },
  {
   "cell_type": "code",
   "execution_count": 4,
   "metadata": {},
   "outputs": [
    {
     "name": "stdout",
     "output_type": "stream",
     "text": [
      "Enter a year: 2000\n",
      "2000 is a leap year.\n"
     ]
    }
   ],
   "source": [
    "# Leap year\n",
    "year = int(input(\"Enter a year: \"))\n",
    "result = 0\n",
    "if year % 4 == 0:\n",
    "    if not year % 100 == 0 or year % 400 == 0:\n",
    "        result = 1\n",
    "if result:\n",
    "    print(f\"{year} is a leap year.\")\n",
    "else:\n",
    "    print(f\"{year} is not a leap year.\")"
   ]
  },
  {
   "cell_type": "code",
   "execution_count": 6,
   "metadata": {},
   "outputs": [
    {
     "name": "stdout",
     "output_type": "stream",
     "text": [
      "Welcome to Python Pizza Deliveries!\n",
      "What size pizza do you want? S, M, L?s\n",
      "Do you want pepporoni? Y or N?y\n",
      "Do you want extra cheese? Y or N?y\n",
      "Your final bill is 18.\n"
     ]
    }
   ],
   "source": [
    "print(\"Welcome to Python Pizza Deliveries!\")\n",
    "size = input(\"What size pizza do you want? S, M, L?\").upper()\n",
    "add_pepporoni = input(\"Do you want pepporoni? Y or N?\").upper()\n",
    "extra_cheese = input(\"Do you want extra cheese? Y or N?\").upper()\n",
    "\n",
    "bill = 0\n",
    "\n",
    "if size == 'S':\n",
    "    bill += 15\n",
    "elif size == 'M':\n",
    "    bill += 20\n",
    "else:\n",
    "    bill += 25\n",
    "\n",
    "if add_pepporoni == 'Y':\n",
    "    if size == 'S':\n",
    "        bill += 2\n",
    "    else:\n",
    "        bill += 3\n",
    "\n",
    "if extra_cheese == 'Y':\n",
    "    bill += 1\n",
    "\n",
    "print(f\"Your final bill is {bill}.\")\n",
    "    "
   ]
  },
  {
   "cell_type": "code",
   "execution_count": 11,
   "metadata": {},
   "outputs": [
    {
     "name": "stdout",
     "output_type": "stream",
     "text": [
      "What's his name?Jack Bauer\n",
      "What's her name?Angela Yu\n",
      "52\n"
     ]
    }
   ],
   "source": [
    "# Love calculator\n",
    "true = {\"t\": 0, \"r\": 0, \"u\": 0, \"e\": 0}\n",
    "love = {\"l\": 0, \"o\": 0, \"v\": 0, \"e\": 0}\n",
    "\n",
    "he = input(\"What's his name?\").lower()\n",
    "she = input(\"What's her name?\").lower()\n",
    "\n",
    "for char in he:\n",
    "    try:\n",
    "        true[char] += 1\n",
    "        love[char] += 1\n",
    "    except:\n",
    "        continue\n",
    "for char in she:\n",
    "    try:\n",
    "        true[char] += 1\n",
    "        love[char] += 1\n",
    "    except:\n",
    "        continue\n",
    "\n",
    "true_list = true.values()\n",
    "love_list = love.values()\n",
    "\n",
    "true_sum = sum(true_list)\n",
    "love_sum = sum(love_list)\n",
    "\n",
    "print(str(true_sum) + str(love_sum))"
   ]
  },
  {
   "cell_type": "code",
   "execution_count": 1,
   "metadata": {},
   "outputs": [
    {
     "name": "stdout",
     "output_type": "stream",
     "text": [
      "Welcome to treasure Island.\n"
     ]
    }
   ],
   "source": [
    "# Treasure Island\n",
    "print(\"Welcome to treasure Island.\")"
   ]
  },
  {
   "cell_type": "code",
   "execution_count": 1,
   "metadata": {},
   "outputs": [],
   "source": [
    "import random"
   ]
  },
  {
   "cell_type": "code",
   "execution_count": 17,
   "metadata": {},
   "outputs": [
    {
     "name": "stdout",
     "output_type": "stream",
     "text": [
      "1\n",
      "1.2753451286971085\n"
     ]
    }
   ],
   "source": [
    "print(random.randint(0, 10))\n",
    "random_float = random.random() * 5\n",
    "print(random_float)"
   ]
  },
  {
   "cell_type": "code",
   "execution_count": 23,
   "metadata": {},
   "outputs": [
    {
     "name": "stdout",
     "output_type": "stream",
     "text": [
      "Create a seed number: 12\n",
      "Heads\n"
     ]
    }
   ],
   "source": [
    "# Random module exercise\n",
    "test_seed = int(input(\"Create a seed number: \"))\n",
    "random.seed(test_seed)\n",
    "\n",
    "random_side = random.randint(0, 1)\n",
    "if random_side == 1:\n",
    "    print(\"Heads\")\n",
    "else:\n",
    "    print(\"Tails\")"
   ]
  },
  {
   "cell_type": "code",
   "execution_count": 30,
   "metadata": {},
   "outputs": [
    {
     "name": "stdout",
     "output_type": "stream",
     "text": [
      "Create a seed number: 12\n",
      "Welcome to Banker Roulette\n",
      "Enter everybody's name, separated by a comma and space.Naruto, Sasuke, Kakashi, Itachi\n",
      "['Naruto', 'Sasuke', 'Kakashi', 'Itachi']\n",
      "Itachi should pay the bill.\n",
      "Kakashi should pay the bill.\n"
     ]
    }
   ],
   "source": [
    "# Banker Roulette\n",
    "test_seed = int(input(\"Create a seed number: \"))\n",
    "random.seed(test_seed)\n",
    "print(\"Welcome to Banker Roulette\")\n",
    "namesAsCSV = input(\"Enter everybody's name, separated by a comma and space.\")\n",
    "names = namesAsCSV.split(\", \")\n",
    "print(names)\n",
    "random_index = random.randint(0, len(names) - 1)\n",
    "print(f\"{names[random_index]} should pay the bill.\")\n",
    "\n",
    "# OR\n",
    "\n",
    "print(f\"{random.choice(names)} should pay the bill.\")"
   ]
  },
  {
   "cell_type": "code",
   "execution_count": 9,
   "metadata": {},
   "outputs": [
    {
     "name": "stdout",
     "output_type": "stream",
     "text": [
      "['0', '0', '0']\n",
      "['0', '0', '0']\n",
      "['0', '0', '0']\n",
      "Where do you want to place the treasure?2 3\n",
      "['0', '0', '0']\n",
      "['0', '0', 'X']\n",
      "['0', '0', '0']\n"
     ]
    }
   ],
   "source": [
    "# Treasure map\n",
    "\n",
    "row1 = [\"0\", \"0\", \"0\"]\n",
    "row2 = [\"0\", \"0\", \"0\"]\n",
    "row3 = [\"0\", \"0\", \"0\"]\n",
    "map = [row1, row2, row3]\n",
    "\n",
    "print(f\"{row1}\\n{row2}\\n{row3}\")\n",
    "position = [int(x) for x in input(\"Where do you want to place the treasure?\").split(\" \")]\n",
    "map[position[0] - 1][position[1] - 1] = \"X\"\n",
    "print(f\"{row1}\\n{row2}\\n{row3}\")"
   ]
  },
  {
   "cell_type": "code",
   "execution_count": 14,
   "metadata": {},
   "outputs": [
    {
     "name": "stdout",
     "output_type": "stream",
     "text": [
      "What do you choose? Type\n",
      "0 for Rock\n",
      "1 for Paper\n",
      "2 for Scissors\n",
      "2\n",
      "Computer chose: Scissors\n",
      "It's a draw.\n"
     ]
    }
   ],
   "source": [
    "user_choice = int(input(\"What do you choose? Type\\n0 for Rock\\n1 for Paper\\n2 for Scissors\\n\"))\n",
    "game_list = [\"Rock\", \"Paper\", \"Scissors\"]\n",
    "comp_choice = random.randint(0, 2)\n",
    "# user_choice = game_list[user_choice]\n",
    "print(f\"Computer chose: {game_list[comp_choice]}\")\n",
    "\n",
    "# result = \"draw\"\n",
    "\n",
    "# if user_choice == \"Rock\" and comp_choice == \"Paper\":\n",
    "#     result = \"lose\"\n",
    "# elif user_choice == \"Rock\" and comp_choice == \"Scissors\":\n",
    "#     result = \"win\"\n",
    "# elif user_choice == \"Paper\" and comp_choice == \"Rock\":\n",
    "#     result = \"win\"\n",
    "# elif user_choice == \"Paper\" and comp_choice == \"Scissors\":\n",
    "#     result = \"lose\"\n",
    "# elif user_choice == \"Scissors\" and comp_choice == \"Rock\":\n",
    "#     result = \"lose\"\n",
    "# elif user_choice == \"Scissors\" and comp_choice == \"Paper\":\n",
    "#     result = \"win\"\n",
    "\n",
    "# if result == \"win\":\n",
    "#     print(\"You win.\")\n",
    "# elif result == \"lose\":\n",
    "#     print(\"You lose.\")\n",
    "# else:\n",
    "#     print(\"It's a draw.\")\n",
    "\n",
    "if user_choice > 2 or user_choice < 0:\n",
    "    print(\"You entered an invalid number, you lose.\")\n",
    "elif user_choice == 0 and comp_choice == 2:\n",
    "    print(\"You win!\")\n",
    "elif user_choice == 2 and comp_choice == 0:\n",
    "    print(\"You lose.\")\n",
    "elif user_choice > comp_choice:\n",
    "    print(\"You win!\")\n",
    "elif comp_choice > user_choice:\n",
    "    print(\"You lose.\")\n",
    "elif user_choice == comp_choice:\n",
    "    print(\"It's a draw.\")\n"
   ]
  },
  {
   "cell_type": "code",
   "execution_count": 15,
   "metadata": {},
   "outputs": [
    {
     "name": "stdout",
     "output_type": "stream",
     "text": [
      "5050.0\n"
     ]
    }
   ],
   "source": [
    "total = (100 * (100 + 1)) / 2\n",
    "print(total)"
   ]
  },
  {
   "cell_type": "code",
   "execution_count": 18,
   "metadata": {},
   "outputs": [
    {
     "name": "stdout",
     "output_type": "stream",
     "text": [
      "2550\n"
     ]
    }
   ],
   "source": [
    "# Sum of even numbers\n",
    "total = 0\n",
    "for num in range(2, 101, 2):\n",
    "    total += num\n",
    "print(total)"
   ]
  },
  {
   "cell_type": "code",
   "execution_count": 20,
   "metadata": {},
   "outputs": [
    {
     "name": "stdout",
     "output_type": "stream",
     "text": [
      "1\n",
      "2\n",
      "Fizz\n",
      "4\n",
      "Buzz\n",
      "Fizz\n",
      "7\n",
      "8\n",
      "Fizz\n",
      "Buzz\n",
      "11\n",
      "Fizz\n",
      "13\n",
      "14\n",
      "FizzBuzz\n",
      "16\n",
      "17\n",
      "Fizz\n",
      "19\n",
      "Buzz\n",
      "Fizz\n",
      "22\n",
      "23\n",
      "Fizz\n",
      "Buzz\n",
      "26\n",
      "Fizz\n",
      "28\n",
      "29\n",
      "FizzBuzz\n",
      "31\n",
      "32\n",
      "Fizz\n",
      "34\n",
      "Buzz\n",
      "Fizz\n",
      "37\n",
      "38\n",
      "Fizz\n",
      "Buzz\n",
      "41\n",
      "Fizz\n",
      "43\n",
      "44\n",
      "FizzBuzz\n",
      "46\n",
      "47\n",
      "Fizz\n",
      "49\n",
      "Buzz\n",
      "Fizz\n",
      "52\n",
      "53\n",
      "Fizz\n",
      "Buzz\n",
      "56\n",
      "Fizz\n",
      "58\n",
      "59\n",
      "FizzBuzz\n",
      "61\n",
      "62\n",
      "Fizz\n",
      "64\n",
      "Buzz\n",
      "Fizz\n",
      "67\n",
      "68\n",
      "Fizz\n",
      "Buzz\n",
      "71\n",
      "Fizz\n",
      "73\n",
      "74\n",
      "FizzBuzz\n",
      "76\n",
      "77\n",
      "Fizz\n",
      "79\n",
      "Buzz\n",
      "Fizz\n",
      "82\n",
      "83\n",
      "Fizz\n",
      "Buzz\n",
      "86\n",
      "Fizz\n",
      "88\n",
      "89\n",
      "FizzBuzz\n",
      "91\n",
      "92\n",
      "Fizz\n",
      "94\n",
      "Buzz\n",
      "Fizz\n",
      "97\n",
      "98\n",
      "Fizz\n",
      "Buzz\n"
     ]
    }
   ],
   "source": [
    "# Fizzbuzz\n",
    "\n",
    "for number in range(1, 101):\n",
    "    if number % 3 == 0 and number % 5 ==0:\n",
    "        print(\"FizzBuzz\")\n",
    "    elif number % 3 == 0:\n",
    "        print(\"Fizz\")\n",
    "    elif number % 5 == 0:\n",
    "        print(\"Buzz\")\n",
    "    else:\n",
    "        print(number)"
   ]
  },
  {
   "cell_type": "code",
   "execution_count": 1,
   "metadata": {},
   "outputs": [
    {
     "ename": "TypeError",
     "evalue": "unhashable type: 'list'",
     "output_type": "error",
     "traceback": [
      "\u001b[0;31m---------------------------------------------------------------------------\u001b[0m",
      "\u001b[0;31mTypeError\u001b[0m                                 Traceback (most recent call last)",
      "\u001b[0;32m<ipython-input-1-6abc1e12c898>\u001b[0m in \u001b[0;36m<module>\u001b[0;34m\u001b[0m\n\u001b[0;32m----> 1\u001b[0;31m \u001b[0;34m{\u001b[0m\u001b[0;34m[\u001b[0m\u001b[0;36m1\u001b[0m\u001b[0;34m,\u001b[0m \u001b[0;36m2\u001b[0m\u001b[0;34m,\u001b[0m \u001b[0;36m3\u001b[0m\u001b[0;34m]\u001b[0m\u001b[0;34m:\u001b[0m \u001b[0;34m\"hello\"\u001b[0m\u001b[0;34m}\u001b[0m\u001b[0;34m\u001b[0m\u001b[0;34m\u001b[0m\u001b[0m\n\u001b[0m",
      "\u001b[0;31mTypeError\u001b[0m: unhashable type: 'list'"
     ]
    }
   ],
   "source": [
    "{[1, 2, 3]: \"hello\"}"
   ]
  },
  {
   "cell_type": "code",
   "execution_count": 2,
   "metadata": {},
   "outputs": [],
   "source": [
    "travel_log = {\n",
    "    \"France\": {\n",
    "        \"cities_visited\": [\"Paris\", \"Lille\", \"Dijon\"],\n",
    "    },\n",
    "    \"Germany\": {\n",
    "        \"cities_visited\": [\"Berlin\", \"Hamburg\", \"Stuttgart\"],\n",
    "    },\n",
    "}"
   ]
  },
  {
   "cell_type": "code",
   "execution_count": 5,
   "metadata": {},
   "outputs": [
    {
     "name": "stdout",
     "output_type": "stream",
     "text": [
      "[{'country': 'France', 'cities_visited': ['Paris', 'Lille', 'Dijon'], 'total_visits': 12}, {'country': 'Germany', 'cities_visited': ['Berlin', 'Hamburg', 'Stuttgart'], 'total_visits': 5}]\n"
     ]
    }
   ],
   "source": [
    "print(travel_log)"
   ]
  },
  {
   "cell_type": "code",
   "execution_count": 4,
   "metadata": {},
   "outputs": [],
   "source": [
    "travel_log = [\n",
    "    {\n",
    "        \"country\": \"France\",\n",
    "        \"cities_visited\": [\"Paris\", \"Lille\", \"Dijon\"],\n",
    "        \"total_visits\": 12\n",
    "    },\n",
    "    {\n",
    "        \"country\": \"Germany\",\n",
    "        \"cities_visited\": [\"Berlin\", \"Hamburg\", \"Stuttgart\"],\n",
    "        \"total_visits\": 5\n",
    "    },\n",
    "]"
   ]
  },
  {
   "cell_type": "code",
   "execution_count": null,
   "metadata": {},
   "outputs": [],
   "source": []
  }
 ],
 "metadata": {
  "kernelspec": {
   "display_name": "Python 3",
   "language": "python",
   "name": "python3"
  },
  "language_info": {
   "codemirror_mode": {
    "name": "ipython",
    "version": 3
   },
   "file_extension": ".py",
   "mimetype": "text/x-python",
   "name": "python",
   "nbconvert_exporter": "python",
   "pygments_lexer": "ipython3",
   "version": "3.8.3"
  }
 },
 "nbformat": 4,
 "nbformat_minor": 4
}
